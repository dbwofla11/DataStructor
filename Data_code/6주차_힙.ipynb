{
 "cells": [
  {
   "cell_type": "code",
   "execution_count": 1,
   "metadata": {},
   "outputs": [],
   "source": [
    "class Heap:\n",
    "    def __init__(self , list) -> None:\n",
    "        if list == None:\n",
    "            self.node = []\n",
    "        else:\n",
    "            self.node = list\n",
    "    \n",
    "    def insert(self , x):\n",
    "        i = len(self.node)\n",
    "        self.node[i] = x\n",
    "        parent = (i - 1) // 2 \n",
    "        while i > 0 and self.node[i] > self.node[parent]:\n",
    "            self.node[i] , self.node[parent] = self.node[parent] , self.node[i]\n",
    "            i = parent\n",
    "            parent = (i - 1) // 2\n",
    "\n",
    "    def deleteMax(self):\n",
    "        if (not self.isEmpty()):\n",
    "            max = self.node[0]\n",
    "            self.node[0] = self.node.pop()\n",
    "            self.__percolateDown(0)\n",
    "            return max\n",
    "        else:\n",
    "            return None\n",
    "    \n",
    "    # 스며오르기\n",
    "    def __percolateUp(self , i:int):\n",
    "        parent = (i - 1) // 2\n",
    "        if i > 0 and self.node[i] > self.node[parent]:\n",
    "            self.node[i] , self.node[parent] = self.node[parent] , self.node[i]\n",
    "            self.__percolateUp(parent)\n",
    "\n",
    "    # 스며내리기 \n",
    "    def __percolateDown(self , i:int): # 아래있는 것이 위에꺼 보다 우선순위가 높다면 위로 올림 \n",
    "        child = 2 * i + 1\n",
    "        rightChild = 2 * i + 2\n",
    "        if child <= len(self.node) - 1:\n",
    "            if rightChild <= len(self.node) - 1 and self.node[child] < self.node[rightChild]:\n",
    "                child = rightChild\n",
    "            if self.node[i] < self.node[child]:\n",
    "                self.node[i] , self.node[child] = self.node[child] , self.node[i]\n",
    "                self.__percolateDown(child)\n",
    "    \n",
    "    def isEmpty(self) -> bool:\n",
    "        return len(self.node) == 0\n",
    "    \n",
    "    def max(self):\n",
    "        return self.node[0]\n",
    "\n",
    "    def buildHeap(self):\n",
    "        for i in range( (len(self.node) - 2) // 2 , -1 , -1 ):\n",
    "            self.__percolateDown(i)\n",
    "        \n",
    "    def size(self) -> int :\n",
    "        return len(self.node)\n",
    "    \n",
    "    def printHeap(self):\n",
    "        ncnt = 0\n",
    "        for i in range( len(self.node) ):\n",
    "            print(f\"{self.node[i]} \" , end = \" \")\n",
    "            if (i+2) % (2 ** ncnt) == 0:\n",
    "                print()\n",
    "                ncnt += 1\n",
    "    \n"
   ]
  },
  {
   "cell_type": "code",
   "execution_count": 2,
   "metadata": {},
   "outputs": [
    {
     "name": "stdout",
     "output_type": "stream",
     "text": [
      "19  \n",
      "11  13  \n",
      "4  3  1  9  \n",
      "2  "
     ]
    }
   ],
   "source": [
    "h1 = Heap([1,11,9,2,3,13,19,4])\n",
    "h1.buildHeap()\n",
    "h1.printHeap()\n",
    "# h1.insert(7)\n",
    "# h1.deleteMax()\n",
    "# h1.printHeap()"
   ]
  },
  {
   "cell_type": "code",
   "execution_count": 34,
   "metadata": {},
   "outputs": [
    {
     "data": {
      "text/plain": [
       "1"
      ]
     },
     "execution_count": 34,
     "metadata": {},
     "output_type": "execute_result"
    }
   ],
   "source": [
    "2 ** 0"
   ]
  }
 ],
 "metadata": {
  "kernelspec": {
   "display_name": "Python 3",
   "language": "python",
   "name": "python3"
  },
  "language_info": {
   "codemirror_mode": {
    "name": "ipython",
    "version": 3
   },
   "file_extension": ".py",
   "mimetype": "text/x-python",
   "name": "python",
   "nbconvert_exporter": "python",
   "pygments_lexer": "ipython3",
   "version": "3.10.6"
  },
  "orig_nbformat": 4
 },
 "nbformat": 4,
 "nbformat_minor": 2
}
