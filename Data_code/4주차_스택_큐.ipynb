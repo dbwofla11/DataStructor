{
 "cells": [
  {
   "cell_type": "code",
   "execution_count": null,
   "metadata": {},
   "outputs": [],
   "source": [
    "# 2번문제 listStack \n",
    "class LinkedStack:\n",
    "  def __init__(self) -> None:\n",
    "    self.__stack = []\n",
    "\n",
    "  def push(self , x):\n",
    "    self.__stack.insert(0 , x)\n",
    "  \n",
    "  def pop(self):\n",
    "    return self.__stack.pop(0)\n",
    "\n",
    "  "
   ]
  },
  {
   "cell_type": "code",
   "execution_count": null,
   "metadata": {},
   "outputs": [],
   "source": [
    "# 3번문제 \n",
    "from collections import deque\n",
    "\n",
    "class LinkedStack:\n",
    "  def __init__(self) -> None:\n",
    "    self.__stack = []\n",
    "\n",
    "  def push(self , x):\n",
    "    self.__stack.insert(0 , x)\n",
    "  \n",
    "  def pop(self):\n",
    "    return self.__stack.pop(0)\n",
    "\n",
    "\n",
    "def is_palindrome(text : str):\n",
    "    cnt = 0 \n",
    "\n",
    "    qu = deque()\n",
    "    stack = LinkedStack()\n",
    "\n",
    "    for i in text:\n",
    "        qu.append(i)\n",
    "        stack.push(i)\n",
    "\n",
    "    while qu and stack:\n",
    "        if qu.pop() == stack.pop():\n",
    "            cnt += 1\n",
    "        else:\n",
    "            break\n",
    "    \n",
    "    if cnt == len(text):\n",
    "        print(\"펠린드롬임 \")\n",
    "    else:\n",
    "        print(\"펠린드롬이 아님\")\n",
    "\n",
    "is_palindrome(\"aa$aa\") \n",
    "\n"
   ]
  },
  {
   "cell_type": "code",
   "execution_count": null,
   "metadata": {},
   "outputs": [],
   "source": [
    "# 5번문제 \n",
    "line = input()\n",
    "\n",
    "\n",
    "stack = []\n",
    "for text in line:\n",
    "    if text in '([':\n",
    "        stack.append(text)\n",
    "    elif text == ']':\n",
    "        if not stack or stack.pop() != '[':\n",
    "            op = 0\n",
    "            break\n",
    "        else:\n",
    "          op = 1\n",
    "    elif text == ')':\n",
    "        if not stack or stack.pop() != '(':\n",
    "            op = 0\n",
    "            break\n",
    "        else:\n",
    "          op = 1\n",
    "\n",
    "if op == 1:\n",
    "  print(\"yes\")\n",
    "else:\n",
    "  print(\"no\")    "
   ]
  },
  {
   "cell_type": "code",
   "execution_count": null,
   "metadata": {},
   "outputs": [],
   "source": [
    "# 7번 문제 - 스택에서 최대값을 찾아라 ? \n",
    "class LinkedStack:\n",
    "  def __init__(self) -> None:\n",
    "    self.__stack = []\n",
    "    self.__max = -99999999999999999999999\n",
    "\n",
    "  def push(self , x):\n",
    "    self.__max = max(self.__max , x)\n",
    "    self.__stack.insert(0 , x)\n",
    "  \n",
    "  def pop(self):\n",
    "    return self.__stack.pop(0)\n",
    "\n",
    "  def max(self):\n",
    "    return self.__max\n",
    "\n",
    "testStack = LinkedStack()\n",
    "\n",
    "testStack.push(5)\n",
    "testStack.push(4)\n",
    "testStack.push(1000)\n",
    "testStack.push(2)\n",
    "testStack.push(1)\n",
    "\n",
    "testStack.max()"
   ]
  }
 ],
 "metadata": {
  "kernelspec": {
   "display_name": "Python 3",
   "language": "python",
   "name": "python3"
  },
  "language_info": {
   "codemirror_mode": {
    "name": "ipython",
    "version": 3
   },
   "file_extension": ".py",
   "mimetype": "text/x-python",
   "name": "python",
   "nbconvert_exporter": "python",
   "pygments_lexer": "ipython3",
   "version": "3.11.2"
  },
  "orig_nbformat": 4,
  "vscode": {
   "interpreter": {
    "hash": "36e81ca1d9b75f03901cefe9ba7a4d14cbdba7709fb14e1824f8ae0890d8441f"
   }
  }
 },
 "nbformat": 4,
 "nbformat_minor": 2
}
