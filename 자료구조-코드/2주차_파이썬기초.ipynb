{
 "cells": [
  {
   "cell_type": "code",
   "execution_count": 4,
   "metadata": {},
   "outputs": [
    {
     "name": "stdout",
     "output_type": "stream",
     "text": [
      "<class 'bool'>\n",
      "True\n"
     ]
    }
   ],
   "source": [
    "print(type(True))\n",
    "a = 10 \n",
    "b = (a < 100)\n",
    "print(b)"
   ]
  },
  {
   "cell_type": "code",
   "execution_count": 1,
   "metadata": {},
   "outputs": [
    {
     "name": "stdout",
     "output_type": "stream",
     "text": [
      "1\n",
      "1\n"
     ]
    }
   ],
   "source": [
    "# 그냉 가장 기본적인 클래스 양식 \n",
    "class Player:\n",
    "    def __init__(self):\n",
    "        self.cnt = 0\n",
    "    \n",
    "    cnt = 0\n",
    "    def count(self):\n",
    "        self.cnt += 1\n",
    "        \n",
    "        print(self.cnt)\n",
    "\n",
    "def start():\n",
    "    p1 = Player()\n",
    "    p2 = Player()\n",
    "    p1.count()\n",
    "    p2.count()\n",
    "\n",
    "if __name__ == \"__main__\":\n",
    "    start()"
   ]
  },
  {
   "attachments": {},
   "cell_type": "markdown",
   "metadata": {},
   "source": [
    "# 클래스 오버로딩"
   ]
  },
  {
   "cell_type": "code",
   "execution_count": 2,
   "metadata": {},
   "outputs": [],
   "source": [
    "class Person:\n",
    "    def __init__(self, name, age):\n",
    "        self.name = name\n",
    "        self.age = age\n",
    "\n",
    "    def get_name(self):\n",
    "        print(f'제 이름은 {self.name}입니다.')\n",
    "    \n",
    "    def get_age(self):\n",
    "        print(f'제 나이는 {self.age}세 입니다.')"
   ]
  },
  {
   "cell_type": "code",
   "execution_count": 3,
   "metadata": {},
   "outputs": [
    {
     "name": "stdout",
     "output_type": "stream",
     "text": [
      "제 이름은 김OO입니다.\n",
      "제 나이는 27세 입니다.\n"
     ]
    }
   ],
   "source": [
    "person_a = Person('김OO', 27)\n",
    "person_a.get_name() # 제 이름은 김OO입니다.\n",
    "person_a.get_age() # 제 나이는 27세 입니다."
   ]
  },
  {
   "cell_type": "code",
   "execution_count": 4,
   "metadata": {},
   "outputs": [],
   "source": [
    "class Student:\n",
    "    def __init__(self, name, age, GPA):\n",
    "        self.name = name\n",
    "        self.age = age\n",
    "        self.GPA = GPA\n",
    "\n",
    "    def get_name(self): # 클래스가 다르면 같은 이름의 함수더라도 오버로딩이 됨 \n",
    "        print(f'제 이름은 {self.name}입니다.')\n",
    "    \n",
    "    def get_age(self):\n",
    "        print(f'제 나이는 {self.age}세 입니다.')\n",
    "\n",
    "    def get_GPA(self):\n",
    "        print(f'제 학점은 {self.GPA}입니다.')"
   ]
  },
  {
   "cell_type": "code",
   "execution_count": 6,
   "metadata": {},
   "outputs": [
    {
     "name": "stdout",
     "output_type": "stream",
     "text": [
      "yes\n",
      "no\n",
      "yes\n"
     ]
    }
   ],
   "source": [
    "# 연습문제 1 \n",
    "def is_included(word , sentence):\n",
    "    judge = (word in sentence)\n",
    "    if judge:\n",
    "        return \"yes\"\n",
    "    else:\n",
    "        return \"no\"\n",
    "\n",
    "print(is_included(\"love\" , \"I love you\"))\n",
    "print(is_included(\"me\" , \"I love you\"))\n",
    "print(is_included(\"you\" , \"I love you\"))\n"
   ]
  },
  {
   "cell_type": "code",
   "execution_count": 8,
   "metadata": {},
   "outputs": [
    {
     "name": "stdout",
     "output_type": "stream",
     "text": [
      "Type the number: 1\n",
      "Type the number: 2\n",
      "Type the number: 3\n",
      "Type the number: 4\n",
      "Type the number: 5\n",
      "15\n"
     ]
    }
   ],
   "source": [
    "# 연습문제 2 \n",
    "def do_sum():\n",
    "    num = []\n",
    "    for i in range(5):\n",
    "        inp = input(\"Type the num\")\n",
    "        num.append(int(inp))\n",
    "    \n",
    "    sum = 0\n",
    "    for i in range(5):\n",
    "        print(f\"Type the number: {num[i]}\")\n",
    "        sum += num[i]\n",
    "    \n",
    "    print(sum)\n",
    "\n",
    "if __name__ == \"__main__\":\n",
    "    do_sum()"
   ]
  },
  {
   "cell_type": "code",
   "execution_count": 10,
   "metadata": {},
   "outputs": [
    {
     "name": "stdout",
     "output_type": "stream",
     "text": [
      "a 123\n",
      "b 456\n",
      "123\n",
      "b 456\n"
     ]
    }
   ],
   "source": [
    "# 연습문제 3\n",
    "phone_book = dict()\n",
    "\n",
    "def insert(name , num):\n",
    "    phone_book[name] = num\n",
    "\n",
    "def delete(name):\n",
    "    del phone_book[name]\n",
    "\n",
    "def select(name):\n",
    "    return phone_book[name]\n",
    "\n",
    "def scan():\n",
    "   for name , num in phone_book.items():\n",
    "       print(name , num)\n",
    "\n",
    "if __name__ == \"__main__\":\n",
    "    while 1:\n",
    "        choice = input(\"메뉴를 고르시오 : 1.insert , 2.delete , 3.select , 4.scan\")\n",
    "        if choice == \"1\":\n",
    "            name = input(\"이름을 입력 :\")\n",
    "            num = input(\"전화번호 입력 : \")\n",
    "            insert(name , num)\n",
    "        elif choice == \"2\":\n",
    "            name = input(\"이름을 입력 :\")\n",
    "            delete(name)\n",
    "        elif choice == \"3\":\n",
    "            name = input(\"이름을 입력 :\")\n",
    "            num = select(name)\n",
    "            print(num)\n",
    "        elif choice == \"4\":\n",
    "            scan()\n",
    "        elif choice == \"5\":\n",
    "            break\n",
    "        else:\n",
    "            print(\"잘못된 넘버입니다.\")\n",
    "\n",
    "\n"
   ]
  },
  {
   "cell_type": "code",
   "execution_count": 33,
   "metadata": {},
   "outputs": [
    {
     "name": "stdout",
     "output_type": "stream",
     "text": [
      "{'a': 100, 'b': 200, 'c': 300}\n",
      "총 직원의 숫자 3\n",
      "가장 많은 월급의 사나이는 : c , 300 을 받는다 \n"
     ]
    }
   ],
   "source": [
    "# 연습문제 4 \n",
    "class Employee:\n",
    "    def __init__(self , name = \"NULL\" , salary = 0):\n",
    "        self.name = name\n",
    "        self.salary = salary\n",
    "        \n",
    "    def get_name1(self) -> str:\n",
    "        return self.name\n",
    "\n",
    "    def get_money(self) -> int:\n",
    "        return data[self.name]\n",
    "\n",
    "    def get_emp_cnt(self) -> int:\n",
    "        return len(data)\n",
    "\n",
    "if __name__ == \"__main__\":\n",
    "    company = []\n",
    "    data = {\"a\":100 , \"b\":200 , \"c\":300}\n",
    "\n",
    "    for k in data:\n",
    "        emp = Employee(k , data[k])\n",
    "        company.append(emp)\n",
    "    \n",
    "    print(data)    \n",
    "    print(f\"총 직원의 숫자 {company[0].get_emp_cnt()}\")\n",
    "\n",
    "    max_salary = 0\n",
    "    max_name = \"\"\n",
    "    \n",
    "    # print(company[0].get_money()) # 아니 오타 실화냐 \n",
    "    # AttributeError: 'Employee' object has no attribute 'get_salary' 이런 오류가 뜰때에는 그냥 생성자 내부의 함수가 없다는 거임 \n",
    "\n",
    "    for emp in company:\n",
    "        if int(emp.get_money()) > max_salary:\n",
    "            max_name = emp.get_name1()\n",
    "            max_salary = int(emp.get_money())\n",
    "        \n",
    "    \n",
    "    print(f\"가장 많은 월급의 사나이는 : {max_name} , {max_salary} 을 받는다 \")"
   ]
  }
 ],
 "metadata": {
  "kernelspec": {
   "display_name": "base",
   "language": "python",
   "name": "python3"
  },
  "language_info": {
   "codemirror_mode": {
    "name": "ipython",
    "version": 3
   },
   "file_extension": ".py",
   "mimetype": "text/x-python",
   "name": "python",
   "nbconvert_exporter": "python",
   "pygments_lexer": "ipython3",
   "version": "3.9.7"
  },
  "orig_nbformat": 4
 },
 "nbformat": 4,
 "nbformat_minor": 2
}
