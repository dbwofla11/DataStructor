{
 "cells": [
  {
   "attachments": {},
   "cell_type": "markdown",
   "metadata": {},
   "source": [
    "# 리스트 기초 "
   ]
  },
  {
   "cell_type": "code",
   "execution_count": 1,
   "metadata": {},
   "outputs": [
    {
     "ename": "ModuleNotFoundError",
     "evalue": "No module named 'linkedListBasic'",
     "output_type": "error",
     "traceback": [
      "\u001b[1;31m---------------------------------------------------------------------------\u001b[0m",
      "\u001b[1;31mModuleNotFoundError\u001b[0m                       Traceback (most recent call last)",
      "\u001b[1;32m~\\AppData\\Local\\Temp/ipykernel_25760/403843632.py\u001b[0m in \u001b[0;36m<module>\u001b[1;34m\u001b[0m\n\u001b[1;32m----> 1\u001b[1;33m \u001b[1;32mfrom\u001b[0m \u001b[0mlinkedListBasic\u001b[0m \u001b[1;32mimport\u001b[0m \u001b[1;33m*\u001b[0m\u001b[1;33m\u001b[0m\u001b[1;33m\u001b[0m\u001b[0m\n\u001b[0m\u001b[0;32m      2\u001b[0m \u001b[1;33m\u001b[0m\u001b[0m\n",
      "\u001b[1;31mModuleNotFoundError\u001b[0m: No module named 'linkedListBasic'"
     ]
    }
   ],
   "source": [
    "class ListNode:\n",
    "    def __init__(self , newItem , nextNode: \"ListNode\" ):\n",
    "        self.item = newItem\n",
    "        self.next = nextNode\n",
    "\n",
    "class LinkedListBasic:\n",
    "    def __init__(self) -> None:\n",
    "        self.__head = ListNode('dummy', None)\n",
    "        self.__numitems = 0\n",
    "\n",
    "    def insert(self , i:int , newItem):\n",
    "        if i >= 0 and i <= self.__numitems:\n",
    "            prev = self.__getNode(i - 1)\n",
    "            newNode = ListNode(newItem , prev.next)\n",
    "            prev.next = newNode\n",
    "            self.__numitems += 1\n",
    "        else:\n",
    "            print(f\"index : {i} : out of bound\")\n",
    "\n",
    "    def append(self , newItem):\n",
    "        prev = self.__getNode(self.__numitems - 1)\n",
    "        newNode = ListNode(newItem , prev.next)\n",
    "        prev.next = newNode\n",
    "        self.__numitems += 1\n",
    "\n",
    "    def pop(self , i:int):\n",
    "        if (i >= 0 and i <= self.__numitems - 1):\n",
    "            prev = self.__getNode(i - 1)\n",
    "            curr = prev.next\n",
    "            prev.next = curr.next\n",
    "            retItem = curr.item\n",
    "            self.__numitems -= 1\n",
    "            return retItem\n",
    "        else:\n",
    "            return None\n",
    "        \n",
    "    def remove(self , x):\n",
    "        (prev , curr) = self.__findNode(x)\n",
    "        if curr != None:\n",
    "            prev\n"
   ]
  }
 ],
 "metadata": {
  "kernelspec": {
   "display_name": "base",
   "language": "python",
   "name": "python3"
  },
  "language_info": {
   "codemirror_mode": {
    "name": "ipython",
    "version": 3
   },
   "file_extension": ".py",
   "mimetype": "text/x-python",
   "name": "python",
   "nbconvert_exporter": "python",
   "pygments_lexer": "ipython3",
   "version": "3.11.2"
  },
  "orig_nbformat": 4
 },
 "nbformat": 4,
 "nbformat_minor": 2
}
