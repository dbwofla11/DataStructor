{
 "cells": [
  {
   "cell_type": "code",
   "execution_count": 1,
   "metadata": {},
   "outputs": [
    {
     "name": "stdout",
     "output_type": "stream",
     "text": [
      "hello world!\n"
     ]
    }
   ],
   "source": [
    "print(\"hello world!\")"
   ]
  },
  {
   "cell_type": "code",
   "execution_count": 2,
   "metadata": {},
   "outputs": [
    {
     "data": {
      "text/plain": [
       "28"
      ]
     },
     "execution_count": 2,
     "metadata": {},
     "output_type": "execute_result"
    }
   ],
   "source": [
    "def seq(n):\n",
    "    if n == 1:\n",
    "        return 1 \n",
    "    else:\n",
    "        return seq(n-1) + 3 \n",
    "    \n",
    "seq(10)"
   ]
  },
  {
   "cell_type": "code",
   "execution_count": 3,
   "metadata": {},
   "outputs": [
    {
     "name": "stdout",
     "output_type": "stream",
     "text": [
      "move 1 from a to c\n",
      "move 2 from a to b\n",
      "move 1 from b to a\n",
      "move 3 from a to c\n",
      "move 1 from c to b\n",
      "move 2 from c to a\n",
      "move 1 from a to c\n"
     ]
    }
   ],
   "source": [
    "def move(n , src , tmp , dest):\n",
    "    if n == 1:\n",
    "        print(\"move {} from {} to {}\".format(1 , src , dest))\n",
    "    else:\n",
    "        move(n-1 , src , dest , tmp)\n",
    "        print(f\"move {n} from {src} to {dest}\")\n",
    "        move(n-1 , dest , tmp , src)\n",
    "\n",
    "move(3 , 'a' , 'b' , 'c')"
   ]
  },
  {
   "cell_type": "code",
   "execution_count": 5,
   "metadata": {},
   "outputs": [
    {
     "data": {
      "text/plain": [
       "1267650600228229401496703205376"
      ]
     },
     "execution_count": 5,
     "metadata": {},
     "output_type": "execute_result"
    }
   ],
   "source": [
    "def pow2(n):\n",
    "    if n == 0:\n",
    "        return 1\n",
    "    else:\n",
    "        return pow2(n-1) * 2 \n",
    "\n",
    "pow2(100)"
   ]
  },
  {
   "cell_type": "code",
   "execution_count": 25,
   "metadata": {},
   "outputs": [
    {
     "data": {
      "text/plain": [
       "11"
      ]
     },
     "execution_count": 25,
     "metadata": {},
     "output_type": "execute_result"
    }
   ],
   "source": [
    "num = [2,4,1,8,9,3,11,4,5]\n",
    "\n",
    "def max_recur(num , n):\n",
    "    if n == 1:\n",
    "        return num[0]\n",
    "    return num[0] if num[0] > max_recur(num[1:] , n-1) else max_recur(num[1:] , n-1)\n",
    "\n",
    "# 재귀로 변환 완료 \n",
    "# \n",
    "max_recur(num , len(num) - 1)"
   ]
  }
 ],
 "metadata": {
  "kernelspec": {
   "display_name": "base",
   "language": "python",
   "name": "python3"
  },
  "language_info": {
   "codemirror_mode": {
    "name": "ipython",
    "version": 3
   },
   "file_extension": ".py",
   "mimetype": "text/x-python",
   "name": "python",
   "nbconvert_exporter": "python",
   "pygments_lexer": "ipython3",
   "version": "3.9.7"
  },
  "orig_nbformat": 4
 },
 "nbformat": 4,
 "nbformat_minor": 2
}
